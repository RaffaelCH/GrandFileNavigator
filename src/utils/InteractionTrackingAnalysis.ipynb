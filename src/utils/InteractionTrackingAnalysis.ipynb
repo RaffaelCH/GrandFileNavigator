{
 "cells": [
  {
   "cell_type": "markdown",
   "metadata": {},
   "source": [
    "# Interaction Tracking Analysis\n",
    "\n",
    "Code to analyze the output from `interactionTracker.js`: process it to determine the likely interactions and reduce the amount of data, then produce some statistics."
   ]
  },
  {
   "cell_type": "code",
   "execution_count": 2,
   "metadata": {},
   "outputs": [],
   "source": [
    "import os\n",
    "import glob\n",
    "\n",
    "def get_newest_file(directory, startsWith = \"interactions_\"):\n",
    "    # Get list of all files in the directory\n",
    "    files = glob.glob(os.path.join(directory, '*'))\n",
    "    files = [file.replace(\"\\\\\", \"/\") for file in files]\n",
    "    \n",
    "    # Check if the directory is empty\n",
    "    if not files:\n",
    "        return None\n",
    "\n",
    "    # Filter for interaction data.\n",
    "    if startsWith:\n",
    "        files = [file for file in files if file.split(\"/\")[-1].startswith(startsWith)]\n",
    "    \n",
    "    # Get the newest file based on modification time\n",
    "    newest_file = max(files, key=os.path.getmtime)\n",
    "    return newest_file"
   ]
  },
  {
   "cell_type": "code",
   "execution_count": 14,
   "metadata": {},
   "outputs": [
    {
     "name": "stdout",
     "output_type": "stream",
     "text": [
      "[{'timeStamp': 1742729006932, 'interactionType': 'ChangeVisibleRanges', 'sourceFilePath': '', 'sourceRange': '', 'targetRange': '39-73'}, {'timeStamp': 1742729006935, 'interactionType': 'ChangeVisibleRanges', 'sourceFilePath': 'c:\\\\Users\\\\rafb\\\\source\\\\repos\\\\ATAI_Project\\\\src\\\\helpers\\\\type_matching.py', 'sourceRange': '39-73', 'targetRange': '40-74'}, {'timeStamp': 1742729006937, 'interactionType': 'ChangeVisibleRanges', 'sourceFilePath': 'c:\\\\Users\\\\rafb\\\\source\\\\repos\\\\ATAI_Project\\\\src\\\\helpers\\\\type_matching.py', 'sourceRange': '40-74', 'targetRange': '43-77'}, {'timeStamp': 1742729006940, 'interactionType': 'ChangeVisibleRanges', 'sourceFilePath': 'c:\\\\Users\\\\rafb\\\\source\\\\repos\\\\ATAI_Project\\\\src\\\\helpers\\\\type_matching.py', 'sourceRange': '43-77', 'targetRange': '43-78'}, {'timeStamp': 1742729006982, 'interactionType': 'ChangeVisibleRanges', 'sourceFilePath': 'c:\\\\Users\\\\rafb\\\\source\\\\repos\\\\ATAI_Project\\\\src\\\\helpers\\\\type_matching.py', 'sourceRange': '43-78', 'targetRange': '45-79'}, {'timeStamp': 1742729006985, 'interactionType': 'ChangeVisibleRanges', 'sourceFilePath': 'c:\\\\Users\\\\rafb\\\\source\\\\repos\\\\ATAI_Project\\\\src\\\\helpers\\\\type_matching.py', 'sourceRange': '45-79', 'targetRange': '46-81'}, {'timeStamp': 1742729006986, 'interactionType': 'ChangeVisibleRanges', 'sourceFilePath': 'c:\\\\Users\\\\rafb\\\\source\\\\repos\\\\ATAI_Project\\\\src\\\\helpers\\\\type_matching.py', 'sourceRange': '46-81', 'targetRange': '49-83'}, {'timeStamp': 1742729006988, 'interactionType': 'ChangeVisibleRanges', 'sourceFilePath': 'c:\\\\Users\\\\rafb\\\\source\\\\repos\\\\ATAI_Project\\\\src\\\\helpers\\\\type_matching.py', 'sourceRange': '49-83', 'targetRange': '49-84'}, {'timeStamp': 1742729006990, 'interactionType': 'ChangeVisibleRanges', 'sourceFilePath': 'c:\\\\Users\\\\rafb\\\\source\\\\repos\\\\ATAI_Project\\\\src\\\\helpers\\\\type_matching.py', 'sourceRange': '49-84', 'targetRange': '50-85'}, {'timeStamp': 1742729007025, 'interactionType': 'ChangeVisibleRanges', 'sourceFilePath': 'c:\\\\Users\\\\rafb\\\\source\\\\repos\\\\ATAI_Project\\\\src\\\\helpers\\\\type_matching.py', 'sourceRange': '50-85', 'targetRange': '51-85'}, {'timeStamp': 1742729007029, 'interactionType': 'ChangeVisibleRanges', 'sourceFilePath': 'c:\\\\Users\\\\rafb\\\\source\\\\repos\\\\ATAI_Project\\\\src\\\\helpers\\\\type_matching.py', 'sourceRange': '51-85', 'targetRange': '52-86'}, {'timeStamp': 1742729007033, 'interactionType': 'ChangeVisibleRanges', 'sourceFilePath': 'c:\\\\Users\\\\rafb\\\\source\\\\repos\\\\ATAI_Project\\\\src\\\\helpers\\\\type_matching.py', 'sourceRange': '52-86', 'targetRange': '53-87'}, {'timeStamp': 1742729007036, 'interactionType': 'ChangeVisibleRanges', 'sourceFilePath': 'c:\\\\Users\\\\rafb\\\\source\\\\repos\\\\ATAI_Project\\\\src\\\\helpers\\\\type_matching.py', 'sourceRange': '53-87', 'targetRange': '53-88'}, {'timeStamp': 1742729007039, 'interactionType': 'ChangeVisibleRanges', 'sourceFilePath': 'c:\\\\Users\\\\rafb\\\\source\\\\repos\\\\ATAI_Project\\\\src\\\\helpers\\\\type_matching.py', 'sourceRange': '53-88', 'targetRange': '54-88'}, {'timeStamp': 1742729007042, 'interactionType': 'ChangeVisibleRanges', 'sourceFilePath': 'c:\\\\Users\\\\rafb\\\\source\\\\repos\\\\ATAI_Project\\\\src\\\\helpers\\\\type_matching.py', 'sourceRange': '54-88', 'targetRange': '54-89'}, {'timeStamp': 1742729007046, 'interactionType': 'ChangeVisibleRanges', 'sourceFilePath': 'c:\\\\Users\\\\rafb\\\\source\\\\repos\\\\ATAI_Project\\\\src\\\\helpers\\\\type_matching.py', 'sourceRange': '54-89', 'targetRange': '55-89'}, {'timeStamp': 1742729007054, 'interactionType': 'ChangeVisibleRanges', 'sourceFilePath': 'c:\\\\Users\\\\rafb\\\\source\\\\repos\\\\ATAI_Project\\\\src\\\\helpers\\\\type_matching.py', 'sourceRange': '55-89', 'targetRange': '56-89'}, {'timeStamp': 1742729007057, 'interactionType': 'ChangeVisibleRanges', 'sourceFilePath': 'c:\\\\Users\\\\rafb\\\\source\\\\repos\\\\ATAI_Project\\\\src\\\\helpers\\\\type_matching.py', 'sourceRange': '56-89', 'targetRange': '57-89'}, {'timeStamp': 1742729007060, 'interactionType': 'ChangeVisibleRanges', 'sourceFilePath': 'c:\\\\Users\\\\rafb\\\\source\\\\repos\\\\ATAI_Project\\\\src\\\\helpers\\\\type_matching.py', 'sourceRange': '57-89', 'targetRange': '58-89'}, {'timeStamp': 1742729007142, 'interactionType': 'ChangeVisibleRanges', 'sourceFilePath': 'c:\\\\Users\\\\rafb\\\\source\\\\repos\\\\ATAI_Project\\\\src\\\\helpers\\\\type_matching.py', 'sourceRange': '58-89', 'targetRange': '59-89'}, {'timeStamp': 1742729007314, 'interactionType': 'ChangeVisibleRanges', 'sourceFilePath': 'c:\\\\Users\\\\rafb\\\\source\\\\repos\\\\ATAI_Project\\\\src\\\\helpers\\\\type_matching.py', 'sourceRange': '59-89', 'targetRange': '60-89'}, {'timeStamp': 1742729007373, 'interactionType': 'ChangeVisibleRanges', 'sourceFilePath': 'c:\\\\Users\\\\rafb\\\\source\\\\repos\\\\ATAI_Project\\\\src\\\\helpers\\\\type_matching.py', 'sourceRange': '60-89', 'targetRange': '61-89'}, {'timeStamp': 1742729007704, 'interactionType': 'ChangeVisibleRanges', 'sourceFilePath': 'c:\\\\Users\\\\rafb\\\\source\\\\repos\\\\ATAI_Project\\\\src\\\\helpers\\\\type_matching.py', 'sourceRange': '61-89', 'targetRange': '60-89'}, {'timeStamp': 1742729007710, 'interactionType': 'ChangeVisibleRanges', 'sourceFilePath': 'c:\\\\Users\\\\rafb\\\\source\\\\repos\\\\ATAI_Project\\\\src\\\\helpers\\\\type_matching.py', 'sourceRange': '60-89', 'targetRange': '58-89'}, {'timeStamp': 1742729007716, 'interactionType': 'ChangeVisibleRanges', 'sourceFilePath': 'c:\\\\Users\\\\rafb\\\\source\\\\repos\\\\ATAI_Project\\\\src\\\\helpers\\\\type_matching.py', 'sourceRange': '58-89', 'targetRange': '55-89'}, {'timeStamp': 1742729007719, 'interactionType': 'ChangeVisibleRanges', 'sourceFilePath': 'c:\\\\Users\\\\rafb\\\\source\\\\repos\\\\ATAI_Project\\\\src\\\\helpers\\\\type_matching.py', 'sourceRange': '55-89', 'targetRange': '53-87'}, {'timeStamp': 1742729007722, 'interactionType': 'ChangeVisibleRanges', 'sourceFilePath': 'c:\\\\Users\\\\rafb\\\\source\\\\repos\\\\ATAI_Project\\\\src\\\\helpers\\\\type_matching.py', 'sourceRange': '53-87', 'targetRange': '51-85'}, {'timeStamp': 1742729007724, 'interactionType': 'ChangeVisibleRanges', 'sourceFilePath': 'c:\\\\Users\\\\rafb\\\\source\\\\repos\\\\ATAI_Project\\\\src\\\\helpers\\\\type_matching.py', 'sourceRange': '51-85', 'targetRange': '49-83'}, {'timeStamp': 1742729007752, 'interactionType': 'ChangeVisibleRanges', 'sourceFilePath': 'c:\\\\Users\\\\rafb\\\\source\\\\repos\\\\ATAI_Project\\\\src\\\\helpers\\\\type_matching.py', 'sourceRange': '49-83', 'targetRange': '48-82'}, {'timeStamp': 1742729007757, 'interactionType': 'ChangeVisibleRanges', 'sourceFilePath': 'c:\\\\Users\\\\rafb\\\\source\\\\repos\\\\ATAI_Project\\\\src\\\\helpers\\\\type_matching.py', 'sourceRange': '48-82', 'targetRange': '47-81'}, {'timeStamp': 1742729007771, 'interactionType': 'ChangeVisibleRanges', 'sourceFilePath': 'c:\\\\Users\\\\rafb\\\\source\\\\repos\\\\ATAI_Project\\\\src\\\\helpers\\\\type_matching.py', 'sourceRange': '47-81', 'targetRange': '46-80'}, {'timeStamp': 1742729007852, 'interactionType': 'ChangeVisibleRanges', 'sourceFilePath': 'c:\\\\Users\\\\rafb\\\\source\\\\repos\\\\ATAI_Project\\\\src\\\\helpers\\\\type_matching.py', 'sourceRange': '46-80', 'targetRange': '44-79'}, {'timeStamp': 1742729007860, 'interactionType': 'ChangeVisibleRanges', 'sourceFilePath': 'c:\\\\Users\\\\rafb\\\\source\\\\repos\\\\ATAI_Project\\\\src\\\\helpers\\\\type_matching.py', 'sourceRange': '44-79', 'targetRange': '43-77'}, {'timeStamp': 1742729007865, 'interactionType': 'ChangeVisibleRanges', 'sourceFilePath': 'c:\\\\Users\\\\rafb\\\\source\\\\repos\\\\ATAI_Project\\\\src\\\\helpers\\\\type_matching.py', 'sourceRange': '43-77', 'targetRange': '42-76'}, {'timeStamp': 1742729007869, 'interactionType': 'ChangeVisibleRanges', 'sourceFilePath': 'c:\\\\Users\\\\rafb\\\\source\\\\repos\\\\ATAI_Project\\\\src\\\\helpers\\\\type_matching.py', 'sourceRange': '42-76', 'targetRange': '41-75'}, {'timeStamp': 1742729007872, 'interactionType': 'ChangeVisibleRanges', 'sourceFilePath': 'c:\\\\Users\\\\rafb\\\\source\\\\repos\\\\ATAI_Project\\\\src\\\\helpers\\\\type_matching.py', 'sourceRange': '41-75', 'targetRange': '40-74'}, {'timeStamp': 1742729007962, 'interactionType': 'ChangeVisibleRanges', 'sourceFilePath': 'c:\\\\Users\\\\rafb\\\\source\\\\repos\\\\ATAI_Project\\\\src\\\\helpers\\\\type_matching.py', 'sourceRange': '40-74', 'targetRange': '39-74'}, {'timeStamp': 1742729008017, 'interactionType': 'ChangeVisibleRanges', 'sourceFilePath': 'c:\\\\Users\\\\rafb\\\\source\\\\repos\\\\ATAI_Project\\\\src\\\\helpers\\\\type_matching.py', 'sourceRange': '39-74', 'targetRange': '39-73'}, {'timeStamp': 1742729008024, 'interactionType': 'ChangeVisibleRanges', 'sourceFilePath': 'c:\\\\Users\\\\rafb\\\\source\\\\repos\\\\ATAI_Project\\\\src\\\\helpers\\\\type_matching.py', 'sourceRange': '39-73', 'targetRange': '38-73'}, {'timeStamp': 1742729008028, 'interactionType': 'ChangeVisibleRanges', 'sourceFilePath': 'c:\\\\Users\\\\rafb\\\\source\\\\repos\\\\ATAI_Project\\\\src\\\\helpers\\\\type_matching.py', 'sourceRange': '38-73', 'targetRange': '38-72'}, {'timeStamp': 1742729008079, 'interactionType': 'ChangeVisibleRanges', 'sourceFilePath': 'c:\\\\Users\\\\rafb\\\\source\\\\repos\\\\ATAI_Project\\\\src\\\\helpers\\\\type_matching.py', 'sourceRange': '38-72', 'targetRange': '37-72'}, {'timeStamp': 1742729008097, 'interactionType': 'ChangeVisibleRanges', 'sourceFilePath': 'c:\\\\Users\\\\rafb\\\\source\\\\repos\\\\ATAI_Project\\\\src\\\\helpers\\\\type_matching.py', 'sourceRange': '37-72', 'targetRange': '37-71'}, {'timeStamp': 1742729008218, 'interactionType': 'ChangeVisibleRanges', 'sourceFilePath': 'c:\\\\Users\\\\rafb\\\\source\\\\repos\\\\ATAI_Project\\\\src\\\\helpers\\\\type_matching.py', 'sourceRange': '37-71', 'targetRange': '36-71'}, {'timeStamp': 1742729008267, 'interactionType': 'ChangeVisibleRanges', 'sourceFilePath': 'c:\\\\Users\\\\rafb\\\\source\\\\repos\\\\ATAI_Project\\\\src\\\\helpers\\\\type_matching.py', 'sourceRange': '36-71', 'targetRange': '36-70'}, {'timeStamp': 1742729008469, 'interactionType': 'ChangeVisibleRanges', 'sourceFilePath': 'c:\\\\Users\\\\rafb\\\\source\\\\repos\\\\ATAI_Project\\\\src\\\\helpers\\\\type_matching.py', 'sourceRange': '36-70', 'targetRange': '35-70'}, {'timeStamp': 1742729008550, 'interactionType': 'ChangeVisibleRanges', 'sourceFilePath': 'c:\\\\Users\\\\rafb\\\\source\\\\repos\\\\ATAI_Project\\\\src\\\\helpers\\\\type_matching.py', 'sourceRange': '35-70', 'targetRange': '35-69'}, {'timeStamp': 1742729008798, 'interactionType': 'ChangeVisibleRanges', 'sourceFilePath': 'c:\\\\Users\\\\rafb\\\\source\\\\repos\\\\ATAI_Project\\\\src\\\\helpers\\\\type_matching.py', 'sourceRange': '35-69', 'targetRange': '34-69'}, {'timeStamp': 1742729008898, 'interactionType': 'ChangeVisibleRanges', 'sourceFilePath': 'c:\\\\Users\\\\rafb\\\\source\\\\repos\\\\ATAI_Project\\\\src\\\\helpers\\\\type_matching.py', 'sourceRange': '34-69', 'targetRange': '34-68'}, {'timeStamp': 1742729008913, 'interactionType': 'ChangeVisibleRanges', 'sourceFilePath': 'c:\\\\Users\\\\rafb\\\\source\\\\repos\\\\ATAI_Project\\\\src\\\\helpers\\\\type_matching.py', 'sourceRange': '34-68', 'targetRange': '32-67'}, {'timeStamp': 1742729008930, 'interactionType': 'ChangeVisibleRanges', 'sourceFilePath': 'c:\\\\Users\\\\rafb\\\\source\\\\repos\\\\ATAI_Project\\\\src\\\\helpers\\\\type_matching.py', 'sourceRange': '32-67', 'targetRange': '31-65'}, {'timeStamp': 1742729008946, 'interactionType': 'ChangeVisibleRanges', 'sourceFilePath': 'c:\\\\Users\\\\rafb\\\\source\\\\repos\\\\ATAI_Project\\\\src\\\\helpers\\\\type_matching.py', 'sourceRange': '31-65', 'targetRange': '28-62'}, {'timeStamp': 1742729008963, 'interactionType': 'ChangeVisibleRanges', 'sourceFilePath': 'c:\\\\Users\\\\rafb\\\\source\\\\repos\\\\ATAI_Project\\\\src\\\\helpers\\\\type_matching.py', 'sourceRange': '28-62', 'targetRange': '26-60'}, {'timeStamp': 1742729008979, 'interactionType': 'ChangeVisibleRanges', 'sourceFilePath': 'c:\\\\Users\\\\rafb\\\\source\\\\repos\\\\ATAI_Project\\\\src\\\\helpers\\\\type_matching.py', 'sourceRange': '26-60', 'targetRange': '24-58'}, {'timeStamp': 1742729008997, 'interactionType': 'ChangeVisibleRanges', 'sourceFilePath': 'c:\\\\Users\\\\rafb\\\\source\\\\repos\\\\ATAI_Project\\\\src\\\\helpers\\\\type_matching.py', 'sourceRange': '24-58', 'targetRange': '22-56'}, {'timeStamp': 1742729009013, 'interactionType': 'ChangeVisibleRanges', 'sourceFilePath': 'c:\\\\Users\\\\rafb\\\\source\\\\repos\\\\ATAI_Project\\\\src\\\\helpers\\\\type_matching.py', 'sourceRange': '22-56', 'targetRange': '21-55'}, {'timeStamp': 1742729009030, 'interactionType': 'ChangeVisibleRanges', 'sourceFilePath': 'c:\\\\Users\\\\rafb\\\\source\\\\repos\\\\ATAI_Project\\\\src\\\\helpers\\\\type_matching.py', 'sourceRange': '21-55', 'targetRange': '20-54'}, {'timeStamp': 1742729009046, 'interactionType': 'ChangeVisibleRanges', 'sourceFilePath': 'c:\\\\Users\\\\rafb\\\\source\\\\repos\\\\ATAI_Project\\\\src\\\\helpers\\\\type_matching.py', 'sourceRange': '20-54', 'targetRange': '19-53'}, {'timeStamp': 1742729009098, 'interactionType': 'ChangeVisibleRanges', 'sourceFilePath': 'c:\\\\Users\\\\rafb\\\\source\\\\repos\\\\ATAI_Project\\\\src\\\\helpers\\\\type_matching.py', 'sourceRange': '19-53', 'targetRange': '18-53'}, {'timeStamp': 1742729009114, 'interactionType': 'ChangeVisibleRanges', 'sourceFilePath': 'c:\\\\Users\\\\rafb\\\\source\\\\repos\\\\ATAI_Project\\\\src\\\\helpers\\\\type_matching.py', 'sourceRange': '18-53', 'targetRange': '18-52'}, {'timeStamp': 1742729009196, 'interactionType': 'ChangeVisibleRanges', 'sourceFilePath': 'c:\\\\Users\\\\rafb\\\\source\\\\repos\\\\ATAI_Project\\\\src\\\\helpers\\\\type_matching.py', 'sourceRange': '18-52', 'targetRange': '17-52'}, {'timeStamp': 1742729009247, 'interactionType': 'ChangeVisibleRanges', 'sourceFilePath': 'c:\\\\Users\\\\rafb\\\\source\\\\repos\\\\ATAI_Project\\\\src\\\\helpers\\\\type_matching.py', 'sourceRange': '17-52', 'targetRange': '17-51'}, {'timeStamp': 1742729009431, 'interactionType': 'ChangeVisibleRanges', 'sourceFilePath': 'c:\\\\Users\\\\rafb\\\\source\\\\repos\\\\ATAI_Project\\\\src\\\\helpers\\\\type_matching.py', 'sourceRange': '17-51', 'targetRange': '16-51'}, {'timeStamp': 1742729009531, 'interactionType': 'ChangeVisibleRanges', 'sourceFilePath': 'c:\\\\Users\\\\rafb\\\\source\\\\repos\\\\ATAI_Project\\\\src\\\\helpers\\\\type_matching.py', 'sourceRange': '16-51', 'targetRange': '16-50'}, {'timeStamp': 1742729009895, 'interactionType': 'ChangeVisibleRanges', 'sourceFilePath': 'c:\\\\Users\\\\rafb\\\\source\\\\repos\\\\ATAI_Project\\\\src\\\\helpers\\\\type_matching.py', 'sourceRange': '16-50', 'targetRange': '15-50'}, {'timeStamp': 1742729010196, 'interactionType': 'ChangeVisibleRanges', 'sourceFilePath': 'c:\\\\Users\\\\rafb\\\\source\\\\repos\\\\ATAI_Project\\\\src\\\\helpers\\\\type_matching.py', 'sourceRange': '15-50', 'targetRange': '14-49'}, {'timeStamp': 1742729010203, 'interactionType': 'ChangeVisibleRanges', 'sourceFilePath': 'c:\\\\Users\\\\rafb\\\\source\\\\repos\\\\ATAI_Project\\\\src\\\\helpers\\\\type_matching.py', 'sourceRange': '14-49', 'targetRange': '15-50'}, {'timeStamp': 1742729016950, 'interactionType': 'ChangeVisibleRanges', 'sourceFilePath': 'c:\\\\Users\\\\rafb\\\\source\\\\repos\\\\ATAI_Project\\\\src\\\\helpers\\\\type_matching.py', 'sourceRange': '15-50', 'targetRange': '15-49'}, {'timeStamp': 1742729016981, 'interactionType': 'ChangeVisibleRanges', 'sourceFilePath': 'c:\\\\Users\\\\rafb\\\\source\\\\repos\\\\ATAI_Project\\\\src\\\\helpers\\\\type_matching.py', 'sourceRange': '15-49', 'targetRange': '13-47'}, {'timeStamp': 1742729016998, 'interactionType': 'ChangeVisibleRanges', 'sourceFilePath': 'c:\\\\Users\\\\rafb\\\\source\\\\repos\\\\ATAI_Project\\\\src\\\\helpers\\\\type_matching.py', 'sourceRange': '13-47', 'targetRange': '11-46'}, {'timeStamp': 1742729017015, 'interactionType': 'ChangeVisibleRanges', 'sourceFilePath': 'c:\\\\Users\\\\rafb\\\\source\\\\repos\\\\ATAI_Project\\\\src\\\\helpers\\\\type_matching.py', 'sourceRange': '11-46', 'targetRange': '9-44'}, {'timeStamp': 1742729017032, 'interactionType': 'ChangeVisibleRanges', 'sourceFilePath': 'c:\\\\Users\\\\rafb\\\\source\\\\repos\\\\ATAI_Project\\\\src\\\\helpers\\\\type_matching.py', 'sourceRange': '9-44', 'targetRange': '8-42'}, {'timeStamp': 1742729017048, 'interactionType': 'ChangeVisibleRanges', 'sourceFilePath': 'c:\\\\Users\\\\rafb\\\\source\\\\repos\\\\ATAI_Project\\\\src\\\\helpers\\\\type_matching.py', 'sourceRange': '8-42', 'targetRange': '6-40'}, {'timeStamp': 1742729017068, 'interactionType': 'ChangeVisibleRanges', 'sourceFilePath': 'c:\\\\Users\\\\rafb\\\\source\\\\repos\\\\ATAI_Project\\\\src\\\\helpers\\\\type_matching.py', 'sourceRange': '6-40', 'targetRange': '4-38'}, {'timeStamp': 1742729017081, 'interactionType': 'ChangeVisibleRanges', 'sourceFilePath': 'c:\\\\Users\\\\rafb\\\\source\\\\repos\\\\ATAI_Project\\\\src\\\\helpers\\\\type_matching.py', 'sourceRange': '4-38', 'targetRange': '2-37'}, {'timeStamp': 1742729017107, 'interactionType': 'ChangeVisibleRanges', 'sourceFilePath': 'c:\\\\Users\\\\rafb\\\\source\\\\repos\\\\ATAI_Project\\\\src\\\\helpers\\\\type_matching.py', 'sourceRange': '2-37', 'targetRange': '2-36'}, {'timeStamp': 1742729017120, 'interactionType': 'ChangeVisibleRanges', 'sourceFilePath': 'c:\\\\Users\\\\rafb\\\\source\\\\repos\\\\ATAI_Project\\\\src\\\\helpers\\\\type_matching.py', 'sourceRange': '2-36', 'targetRange': '1-35'}, {'timeStamp': 1742729017134, 'interactionType': 'ChangeVisibleRanges', 'sourceFilePath': 'c:\\\\Users\\\\rafb\\\\source\\\\repos\\\\ATAI_Project\\\\src\\\\helpers\\\\type_matching.py', 'sourceRange': '1-35', 'targetRange': '0-35'}, {'timeStamp': 1742729017164, 'interactionType': 'ChangeVisibleRanges', 'sourceFilePath': 'c:\\\\Users\\\\rafb\\\\source\\\\repos\\\\ATAI_Project\\\\src\\\\helpers\\\\type_matching.py', 'sourceRange': '0-35', 'targetRange': '0-34'}, {'timeStamp': 1742729020006, 'interactionType': 'ClickJumpButton'}, {'timeStamp': 1742729020030, 'interactionType': 'ChangeVisibleRanges', 'sourceFilePath': 'c:\\\\Users\\\\rafb\\\\source\\\\repos\\\\ATAI_Project\\\\src\\\\helpers\\\\type_matching.py', 'sourceRange': '0-34', 'targetRange': '34-69'}, {'timeStamp': 1742729021639, 'interactionType': 'ClickJumpButton'}, {'timeStamp': 1742729021655, 'interactionType': 'ChangeVisibleRanges', 'sourceFilePath': 'c:\\\\Users\\\\rafb\\\\source\\\\repos\\\\ATAI_Project\\\\src\\\\helpers\\\\type_matching.py', 'sourceRange': '34-69', 'targetRange': '10-45'}, {'timeStamp': 1742729030401, 'interactionType': 'ChangeVisibleRanges', 'sourceFilePath': 'c:\\\\Users\\\\rafb\\\\source\\\\repos\\\\ATAI_Project\\\\src\\\\helpers\\\\type_matching.py', 'sourceRange': '10-45', 'targetRange': '209-244'}, {'timeStamp': 1742729030536, 'interactionType': 'ChangeFile', 'sourceFilePath': 'c:\\\\Users\\\\rafb\\\\source\\\\repos\\\\ATAI_Project\\\\src\\\\agent.py', 'sourceRange': '209-244', 'targetFilePath': 'c:\\\\Users\\\\rafb\\\\source\\\\repos\\\\ATAI_Project\\\\src\\\\agent.py', 'targetRange': '209-244'}, {'timeStamp': 1742729030542, 'interactionType': 'ChangeFile', 'sourceFilePath': 'c:\\\\Users\\\\rafb\\\\source\\\\repos\\\\ATAI_Project\\\\src\\\\agent.py', 'sourceRange': '209-244', 'targetFilePath': 'c:\\\\Users\\\\rafb\\\\source\\\\repos\\\\ATAI_Project\\\\src\\\\agent.py', 'targetRange': '209-244'}]\n"
     ]
    }
   ],
   "source": [
    "import json\n",
    "\n",
    "fileDir = 'C:/Users/rafb/AppData/Roaming/Code/User/workspaceStorage/b03f3379a1447d3620f3d4a069f1d983/grandFileNavigator.grandfilenavigator'\n",
    "filePath = get_newest_file(fileDir)\n",
    "\n",
    "interactionData = []\n",
    "with open(filePath) as interactionDataFile:\n",
    "    for interaction in interactionDataFile.readlines():\n",
    "        interactionData.append(json.loads(interaction))\n",
    "\n",
    "print(interactionData)"
   ]
  },
  {
   "cell_type": "code",
   "execution_count": 16,
   "metadata": {},
   "outputs": [],
   "source": [
    "import copy\n",
    "\n",
    "# Merge scrolls together.\n",
    "# A scroll is all changes of the visible ranges with less than 250 between them (i.e., covers short interruptions).\n",
    "def detectScrolling(interactionData):\n",
    "    maxTimeBetweenChanges = 250 # max time in ms between ChangeVisibleRanges entries to still be considered part of one scroll\n",
    "    scrollingInteractionData = []\n",
    "\n",
    "    scrollInteraction = None\n",
    "    for interaction in interactionData:\n",
    "        if interaction[\"interactionType\"] != \"ChangeVisibleRanges\":\n",
    "            if scrollInteraction is not None:\n",
    "                scrollingInteractionData.append(scrollInteraction)\n",
    "                scrollInteraction = None\n",
    "            scrollingInteractionData.append(interaction)\n",
    "        elif scrollInteraction is None or interaction[\"timeStamp\"] - scrollInteraction[\"endTime\"] > maxTimeBetweenChanges:\n",
    "            if scrollInteraction is not None:\n",
    "                scrollingInteractionData.append(scrollInteraction)\n",
    "            scrollInteraction = copy.deepcopy(interaction)\n",
    "            scrollInteraction[\"interactionType\"] = \"Scroll\"\n",
    "            scrollInteraction[\"endTime\"] = interaction[\"timeStamp\"]\n",
    "        else:\n",
    "            scrollInteraction[\"endTime\"] = interaction[\"timeStamp\"]\n",
    "            scrollInteraction[\"targetRange\"] = interaction[\"targetRange\"]\n",
    "\n",
    "    return scrollingInteractionData"
   ]
  },
  {
   "cell_type": "code",
   "execution_count": 17,
   "metadata": {},
   "outputs": [
    {
     "name": "stdout",
     "output_type": "stream",
     "text": [
      "[{'timeStamp': 1742729006932, 'interactionType': 'Scroll', 'sourceFilePath': '', 'sourceRange': '', 'targetRange': '61-89', 'endTime': 1742729007373}, {'timeStamp': 1742729007704, 'interactionType': 'Scroll', 'sourceFilePath': 'c:\\\\Users\\\\rafb\\\\source\\\\repos\\\\ATAI_Project\\\\src\\\\helpers\\\\type_matching.py', 'sourceRange': '61-89', 'targetRange': '16-50', 'endTime': 1742729009531}, {'timeStamp': 1742729009895, 'interactionType': 'Scroll', 'sourceFilePath': 'c:\\\\Users\\\\rafb\\\\source\\\\repos\\\\ATAI_Project\\\\src\\\\helpers\\\\type_matching.py', 'sourceRange': '16-50', 'targetRange': '15-50', 'endTime': 1742729009895}, {'timeStamp': 1742729010196, 'interactionType': 'Scroll', 'sourceFilePath': 'c:\\\\Users\\\\rafb\\\\source\\\\repos\\\\ATAI_Project\\\\src\\\\helpers\\\\type_matching.py', 'sourceRange': '15-50', 'targetRange': '15-50', 'endTime': 1742729010203}, {'timeStamp': 1742729016950, 'interactionType': 'Scroll', 'sourceFilePath': 'c:\\\\Users\\\\rafb\\\\source\\\\repos\\\\ATAI_Project\\\\src\\\\helpers\\\\type_matching.py', 'sourceRange': '15-50', 'targetRange': '0-34', 'endTime': 1742729017164}, {'timeStamp': 1742729020006, 'interactionType': 'ClickJumpButton'}, {'timeStamp': 1742729020030, 'interactionType': 'Scroll', 'sourceFilePath': 'c:\\\\Users\\\\rafb\\\\source\\\\repos\\\\ATAI_Project\\\\src\\\\helpers\\\\type_matching.py', 'sourceRange': '0-34', 'targetRange': '34-69', 'endTime': 1742729020030}, {'timeStamp': 1742729021639, 'interactionType': 'ClickJumpButton'}, {'timeStamp': 1742729021655, 'interactionType': 'Scroll', 'sourceFilePath': 'c:\\\\Users\\\\rafb\\\\source\\\\repos\\\\ATAI_Project\\\\src\\\\helpers\\\\type_matching.py', 'sourceRange': '34-69', 'targetRange': '10-45', 'endTime': 1742729021655}, {'timeStamp': 1742729030401, 'interactionType': 'Scroll', 'sourceFilePath': 'c:\\\\Users\\\\rafb\\\\source\\\\repos\\\\ATAI_Project\\\\src\\\\helpers\\\\type_matching.py', 'sourceRange': '10-45', 'targetRange': '209-244', 'endTime': 1742729030401}, {'timeStamp': 1742729030536, 'interactionType': 'ChangeFile', 'sourceFilePath': 'c:\\\\Users\\\\rafb\\\\source\\\\repos\\\\ATAI_Project\\\\src\\\\agent.py', 'sourceRange': '209-244', 'targetFilePath': 'c:\\\\Users\\\\rafb\\\\source\\\\repos\\\\ATAI_Project\\\\src\\\\agent.py', 'targetRange': '209-244'}, {'timeStamp': 1742729030542, 'interactionType': 'ChangeFile', 'sourceFilePath': 'c:\\\\Users\\\\rafb\\\\source\\\\repos\\\\ATAI_Project\\\\src\\\\agent.py', 'sourceRange': '209-244', 'targetFilePath': 'c:\\\\Users\\\\rafb\\\\source\\\\repos\\\\ATAI_Project\\\\src\\\\agent.py', 'targetRange': '209-244'}]\n"
     ]
    }
   ],
   "source": [
    "# TODO: First process jumps, to prevent them from being treated as scolling data.\n",
    "\n",
    "scrollingInteractionData = detectScrolling(interactionData)\n",
    "print(scrollingInteractionData)"
   ]
  }
 ],
 "metadata": {
  "kernelspec": {
   "display_name": "Python 3",
   "language": "python",
   "name": "python3"
  },
  "language_info": {
   "codemirror_mode": {
    "name": "ipython",
    "version": 3
   },
   "file_extension": ".py",
   "mimetype": "text/x-python",
   "name": "python",
   "nbconvert_exporter": "python",
   "pygments_lexer": "ipython3",
   "version": "3.10.7"
  }
 },
 "nbformat": 4,
 "nbformat_minor": 2
}
