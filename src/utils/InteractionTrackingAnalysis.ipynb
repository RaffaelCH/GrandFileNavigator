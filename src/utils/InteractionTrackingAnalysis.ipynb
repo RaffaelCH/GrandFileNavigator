{
 "cells": [
  {
   "cell_type": "markdown",
   "metadata": {},
   "source": [
    "# Interaction Tracking Analysis\n",
    "\n",
    "Code to analyze the output from `interactionTracker.js`: process it to determine the likely interactions and reduce the amount of data, then produce some statistics."
   ]
  },
  {
   "cell_type": "code",
   "execution_count": 18,
   "metadata": {},
   "outputs": [],
   "source": [
    "import os\n",
    "import glob\n",
    "\n",
    "def get_newest_interaction_file(directory, startsWith = \"interactions_\"):\n",
    "    # Get list of all files in the directory\n",
    "    files = glob.glob(os.path.join(directory, '*'))\n",
    "    files = [file.replace(\"\\\\\", \"/\") for file in files]\n",
    "    \n",
    "    # Check if the directory is empty\n",
    "    if not files:\n",
    "        return None\n",
    "\n",
    "    # Filter for interaction data.\n",
    "    if startsWith:\n",
    "        files = [file for file in files if file.split(\"/\")[-1].startswith(startsWith)]\n",
    "    \n",
    "    # Get the newest file based on modification time\n",
    "    newest_file = max(files, key=os.path.getmtime)\n",
    "    return newest_file"
   ]
  },
  {
   "cell_type": "code",
   "execution_count": 19,
   "metadata": {},
   "outputs": [
    {
     "name": "stdout",
     "output_type": "stream",
     "text": [
      "[{'timeStamp': 1743188649485, 'interactionType': 'ChangeVisibleRanges', 'sourceFilePath': '', 'sourceRange': '', 'targetRange': '211-245'}, {'timeStamp': 1743188649487, 'interactionType': 'ChangeVisibleRanges', 'sourceFilePath': 'c:\\\\Users\\\\rafb\\\\source\\\\repos\\\\ATAI_Project\\\\src\\\\agent.py', 'sourceRange': '211-245', 'targetRange': '209-244'}, {'timeStamp': 1743188653372, 'interactionType': 'ChangeVisibleRanges', 'sourceFilePath': 'c:\\\\Users\\\\rafb\\\\source\\\\repos\\\\ATAI_Project\\\\src\\\\agent.py', 'sourceRange': '209-244', 'targetRange': '208-242'}, {'timeStamp': 1743188653375, 'interactionType': 'ChangeVisibleRanges', 'sourceFilePath': 'c:\\\\Users\\\\rafb\\\\source\\\\repos\\\\ATAI_Project\\\\src\\\\agent.py', 'sourceRange': '208-242', 'targetRange': '209-244'}, {'timeStamp': 1743188662490, 'interactionType': 'ChangeVisibleRanges', 'sourceFilePath': 'c:\\\\Users\\\\rafb\\\\source\\\\repos\\\\ATAI_Project\\\\src\\\\agent.py', 'sourceRange': '209-244', 'targetRange': '210-244'}, {'timeStamp': 1743188662532, 'interactionType': 'ChangeVisibleRanges', 'sourceFilePath': 'c:\\\\Users\\\\rafb\\\\source\\\\repos\\\\ATAI_Project\\\\src\\\\agent.py', 'sourceRange': '210-244', 'targetRange': '214-248'}, {'timeStamp': 1743188662541, 'interactionType': 'ChangeVisibleRanges', 'sourceFilePath': 'c:\\\\Users\\\\rafb\\\\source\\\\repos\\\\ATAI_Project\\\\src\\\\agent.py', 'sourceRange': '214-248', 'targetRange': '216-251'}, {'timeStamp': 1743188662555, 'interactionType': 'ChangeVisibleRanges', 'sourceFilePath': 'c:\\\\Users\\\\rafb\\\\source\\\\repos\\\\ATAI_Project\\\\src\\\\agent.py', 'sourceRange': '216-251', 'targetRange': '221-255'}, {'timeStamp': 1743188662572, 'interactionType': 'ChangeVisibleRanges', 'sourceFilePath': 'c:\\\\Users\\\\rafb\\\\source\\\\repos\\\\ATAI_Project\\\\src\\\\agent.py', 'sourceRange': '221-255', 'targetRange': '225-259'}, {'timeStamp': 1743188662606, 'interactionType': 'ChangeVisibleRanges', 'sourceFilePath': 'c:\\\\Users\\\\rafb\\\\source\\\\repos\\\\ATAI_Project\\\\src\\\\agent.py', 'sourceRange': '225-259', 'targetRange': '228-262'}, {'timeStamp': 1743188662624, 'interactionType': 'ChangeVisibleRanges', 'sourceFilePath': 'c:\\\\Users\\\\rafb\\\\source\\\\repos\\\\ATAI_Project\\\\src\\\\agent.py', 'sourceRange': '228-262', 'targetRange': '229-264'}, {'timeStamp': 1743188662639, 'interactionType': 'ChangeVisibleRanges', 'sourceFilePath': 'c:\\\\Users\\\\rafb\\\\source\\\\repos\\\\ATAI_Project\\\\src\\\\agent.py', 'sourceRange': '229-264', 'targetRange': '231-265'}, {'timeStamp': 1743188662656, 'interactionType': 'ChangeVisibleRanges', 'sourceFilePath': 'c:\\\\Users\\\\rafb\\\\source\\\\repos\\\\ATAI_Project\\\\src\\\\agent.py', 'sourceRange': '231-265', 'targetRange': '232-266'}, {'timeStamp': 1743188662672, 'interactionType': 'ChangeVisibleRanges', 'sourceFilePath': 'c:\\\\Users\\\\rafb\\\\source\\\\repos\\\\ATAI_Project\\\\src\\\\agent.py', 'sourceRange': '232-266', 'targetRange': '233-268'}, {'timeStamp': 1743188662688, 'interactionType': 'ChangeVisibleRanges', 'sourceFilePath': 'c:\\\\Users\\\\rafb\\\\source\\\\repos\\\\ATAI_Project\\\\src\\\\agent.py', 'sourceRange': '233-268', 'targetRange': '234-269'}, {'timeStamp': 1743188662705, 'interactionType': 'ChangeVisibleRanges', 'sourceFilePath': 'c:\\\\Users\\\\rafb\\\\source\\\\repos\\\\ATAI_Project\\\\src\\\\agent.py', 'sourceRange': '234-269', 'targetRange': '236-270'}, {'timeStamp': 1743188662722, 'interactionType': 'ChangeVisibleRanges', 'sourceFilePath': 'c:\\\\Users\\\\rafb\\\\source\\\\repos\\\\ATAI_Project\\\\src\\\\agent.py', 'sourceRange': '236-270', 'targetRange': '237-271'}, {'timeStamp': 1743188662739, 'interactionType': 'ChangeVisibleRanges', 'sourceFilePath': 'c:\\\\Users\\\\rafb\\\\source\\\\repos\\\\ATAI_Project\\\\src\\\\agent.py', 'sourceRange': '237-271', 'targetRange': '238-272'}, {'timeStamp': 1743188662755, 'interactionType': 'ChangeVisibleRanges', 'sourceFilePath': 'c:\\\\Users\\\\rafb\\\\source\\\\repos\\\\ATAI_Project\\\\src\\\\agent.py', 'sourceRange': '238-272', 'targetRange': '239-274'}, {'timeStamp': 1743188662779, 'interactionType': 'ChangeVisibleRanges', 'sourceFilePath': 'c:\\\\Users\\\\rafb\\\\source\\\\repos\\\\ATAI_Project\\\\src\\\\agent.py', 'sourceRange': '239-274', 'targetRange': '240-275'}, {'timeStamp': 1743188662790, 'interactionType': 'ChangeVisibleRanges', 'sourceFilePath': 'c:\\\\Users\\\\rafb\\\\source\\\\repos\\\\ATAI_Project\\\\src\\\\agent.py', 'sourceRange': '240-275', 'targetRange': '241-276'}, {'timeStamp': 1743188662805, 'interactionType': 'ChangeVisibleRanges', 'sourceFilePath': 'c:\\\\Users\\\\rafb\\\\source\\\\repos\\\\ATAI_Project\\\\src\\\\agent.py', 'sourceRange': '241-276', 'targetRange': '243-277'}, {'timeStamp': 1743188662822, 'interactionType': 'ChangeVisibleRanges', 'sourceFilePath': 'c:\\\\Users\\\\rafb\\\\source\\\\repos\\\\ATAI_Project\\\\src\\\\agent.py', 'sourceRange': '243-277', 'targetRange': '244-278'}, {'timeStamp': 1743188662838, 'interactionType': 'ChangeVisibleRanges', 'sourceFilePath': 'c:\\\\Users\\\\rafb\\\\source\\\\repos\\\\ATAI_Project\\\\src\\\\agent.py', 'sourceRange': '244-278', 'targetRange': '245-279'}, {'timeStamp': 1743188662855, 'interactionType': 'ChangeVisibleRanges', 'sourceFilePath': 'c:\\\\Users\\\\rafb\\\\source\\\\repos\\\\ATAI_Project\\\\src\\\\agent.py', 'sourceRange': '245-279', 'targetRange': '246-280'}, {'timeStamp': 1743188662872, 'interactionType': 'ChangeVisibleRanges', 'sourceFilePath': 'c:\\\\Users\\\\rafb\\\\source\\\\repos\\\\ATAI_Project\\\\src\\\\agent.py', 'sourceRange': '246-280', 'targetRange': '247-281'}, {'timeStamp': 1743188662889, 'interactionType': 'ChangeVisibleRanges', 'sourceFilePath': 'c:\\\\Users\\\\rafb\\\\source\\\\repos\\\\ATAI_Project\\\\src\\\\agent.py', 'sourceRange': '247-281', 'targetRange': '248-282'}, {'timeStamp': 1743188662906, 'interactionType': 'ChangeVisibleRanges', 'sourceFilePath': 'c:\\\\Users\\\\rafb\\\\source\\\\repos\\\\ATAI_Project\\\\src\\\\agent.py', 'sourceRange': '248-282', 'targetRange': '249-283'}, {'timeStamp': 1743188662922, 'interactionType': 'ChangeVisibleRanges', 'sourceFilePath': 'c:\\\\Users\\\\rafb\\\\source\\\\repos\\\\ATAI_Project\\\\src\\\\agent.py', 'sourceRange': '249-283', 'targetRange': '250-284'}, {'timeStamp': 1743188662939, 'interactionType': 'ChangeVisibleRanges', 'sourceFilePath': 'c:\\\\Users\\\\rafb\\\\source\\\\repos\\\\ATAI_Project\\\\src\\\\agent.py', 'sourceRange': '250-284', 'targetRange': '251-285'}, {'timeStamp': 1743188662956, 'interactionType': 'ChangeVisibleRanges', 'sourceFilePath': 'c:\\\\Users\\\\rafb\\\\source\\\\repos\\\\ATAI_Project\\\\src\\\\agent.py', 'sourceRange': '251-285', 'targetRange': '252-286'}, {'timeStamp': 1743188662972, 'interactionType': 'ChangeVisibleRanges', 'sourceFilePath': 'c:\\\\Users\\\\rafb\\\\source\\\\repos\\\\ATAI_Project\\\\src\\\\agent.py', 'sourceRange': '252-286', 'targetRange': '253-287'}, {'timeStamp': 1743188662989, 'interactionType': 'ChangeVisibleRanges', 'sourceFilePath': 'c:\\\\Users\\\\rafb\\\\source\\\\repos\\\\ATAI_Project\\\\src\\\\agent.py', 'sourceRange': '253-287', 'targetRange': '254-288'}, {'timeStamp': 1743188663006, 'interactionType': 'ChangeVisibleRanges', 'sourceFilePath': 'c:\\\\Users\\\\rafb\\\\source\\\\repos\\\\ATAI_Project\\\\src\\\\agent.py', 'sourceRange': '254-288', 'targetRange': '254-289'}, {'timeStamp': 1743188663022, 'interactionType': 'ChangeVisibleRanges', 'sourceFilePath': 'c:\\\\Users\\\\rafb\\\\source\\\\repos\\\\ATAI_Project\\\\src\\\\agent.py', 'sourceRange': '254-289', 'targetRange': '255-290'}, {'timeStamp': 1743188663039, 'interactionType': 'ChangeVisibleRanges', 'sourceFilePath': 'c:\\\\Users\\\\rafb\\\\source\\\\repos\\\\ATAI_Project\\\\src\\\\agent.py', 'sourceRange': '255-290', 'targetRange': '256-291'}, {'timeStamp': 1743188663058, 'interactionType': 'ChangeVisibleRanges', 'sourceFilePath': 'c:\\\\Users\\\\rafb\\\\source\\\\repos\\\\ATAI_Project\\\\src\\\\agent.py', 'sourceRange': '256-291', 'targetRange': '257-291'}, {'timeStamp': 1743188663072, 'interactionType': 'ChangeVisibleRanges', 'sourceFilePath': 'c:\\\\Users\\\\rafb\\\\source\\\\repos\\\\ATAI_Project\\\\src\\\\agent.py', 'sourceRange': '257-291', 'targetRange': '258-292'}, {'timeStamp': 1743188663090, 'interactionType': 'ChangeVisibleRanges', 'sourceFilePath': 'c:\\\\Users\\\\rafb\\\\source\\\\repos\\\\ATAI_Project\\\\src\\\\agent.py', 'sourceRange': '258-292', 'targetRange': '259-293'}, {'timeStamp': 1743188663106, 'interactionType': 'ChangeVisibleRanges', 'sourceFilePath': 'c:\\\\Users\\\\rafb\\\\source\\\\repos\\\\ATAI_Project\\\\src\\\\agent.py', 'sourceRange': '259-293', 'targetRange': '260-294'}, {'timeStamp': 1743188663122, 'interactionType': 'ChangeVisibleRanges', 'sourceFilePath': 'c:\\\\Users\\\\rafb\\\\source\\\\repos\\\\ATAI_Project\\\\src\\\\agent.py', 'sourceRange': '260-294', 'targetRange': '260-295'}, {'timeStamp': 1743188663139, 'interactionType': 'ChangeVisibleRanges', 'sourceFilePath': 'c:\\\\Users\\\\rafb\\\\source\\\\repos\\\\ATAI_Project\\\\src\\\\agent.py', 'sourceRange': '260-295', 'targetRange': '261-296'}, {'timeStamp': 1743188663155, 'interactionType': 'ChangeVisibleRanges', 'sourceFilePath': 'c:\\\\Users\\\\rafb\\\\source\\\\repos\\\\ATAI_Project\\\\src\\\\agent.py', 'sourceRange': '261-296', 'targetRange': '262-296'}, {'timeStamp': 1743188663172, 'interactionType': 'ChangeVisibleRanges', 'sourceFilePath': 'c:\\\\Users\\\\rafb\\\\source\\\\repos\\\\ATAI_Project\\\\src\\\\agent.py', 'sourceRange': '262-296', 'targetRange': '263-297'}, {'timeStamp': 1743188663189, 'interactionType': 'ChangeVisibleRanges', 'sourceFilePath': 'c:\\\\Users\\\\rafb\\\\source\\\\repos\\\\ATAI_Project\\\\src\\\\agent.py', 'sourceRange': '263-297', 'targetRange': '264-298'}, {'timeStamp': 1743188663205, 'interactionType': 'ChangeVisibleRanges', 'sourceFilePath': 'c:\\\\Users\\\\rafb\\\\source\\\\repos\\\\ATAI_Project\\\\src\\\\agent.py', 'sourceRange': '264-298', 'targetRange': '264-299'}, {'timeStamp': 1743188663222, 'interactionType': 'ChangeVisibleRanges', 'sourceFilePath': 'c:\\\\Users\\\\rafb\\\\source\\\\repos\\\\ATAI_Project\\\\src\\\\agent.py', 'sourceRange': '264-299', 'targetRange': '265-299'}, {'timeStamp': 1743188663238, 'interactionType': 'ChangeVisibleRanges', 'sourceFilePath': 'c:\\\\Users\\\\rafb\\\\source\\\\repos\\\\ATAI_Project\\\\src\\\\agent.py', 'sourceRange': '265-299', 'targetRange': '266-300'}, {'timeStamp': 1743188663255, 'interactionType': 'ChangeVisibleRanges', 'sourceFilePath': 'c:\\\\Users\\\\rafb\\\\source\\\\repos\\\\ATAI_Project\\\\src\\\\agent.py', 'sourceRange': '266-300', 'targetRange': '267-301'}, {'timeStamp': 1743188663272, 'interactionType': 'ChangeVisibleRanges', 'sourceFilePath': 'c:\\\\Users\\\\rafb\\\\source\\\\repos\\\\ATAI_Project\\\\src\\\\agent.py', 'sourceRange': '267-301', 'targetRange': '267-302'}, {'timeStamp': 1743188663289, 'interactionType': 'ChangeVisibleRanges', 'sourceFilePath': 'c:\\\\Users\\\\rafb\\\\source\\\\repos\\\\ATAI_Project\\\\src\\\\agent.py', 'sourceRange': '267-302', 'targetRange': '268-302'}, {'timeStamp': 1743188663305, 'interactionType': 'ChangeVisibleRanges', 'sourceFilePath': 'c:\\\\Users\\\\rafb\\\\source\\\\repos\\\\ATAI_Project\\\\src\\\\agent.py', 'sourceRange': '268-302', 'targetRange': '269-303'}, {'timeStamp': 1743188663322, 'interactionType': 'ChangeVisibleRanges', 'sourceFilePath': 'c:\\\\Users\\\\rafb\\\\source\\\\repos\\\\ATAI_Project\\\\src\\\\agent.py', 'sourceRange': '269-303', 'targetRange': '269-304'}, {'timeStamp': 1743188663339, 'interactionType': 'ChangeVisibleRanges', 'sourceFilePath': 'c:\\\\Users\\\\rafb\\\\source\\\\repos\\\\ATAI_Project\\\\src\\\\agent.py', 'sourceRange': '269-304', 'targetRange': '270-304'}, {'timeStamp': 1743188663355, 'interactionType': 'ChangeVisibleRanges', 'sourceFilePath': 'c:\\\\Users\\\\rafb\\\\source\\\\repos\\\\ATAI_Project\\\\src\\\\agent.py', 'sourceRange': '270-304', 'targetRange': '271-305'}, {'timeStamp': 1743188663371, 'interactionType': 'ChangeVisibleRanges', 'sourceFilePath': 'c:\\\\Users\\\\rafb\\\\source\\\\repos\\\\ATAI_Project\\\\src\\\\agent.py', 'sourceRange': '271-305', 'targetRange': '271-306'}, {'timeStamp': 1743188663388, 'interactionType': 'ChangeVisibleRanges', 'sourceFilePath': 'c:\\\\Users\\\\rafb\\\\source\\\\repos\\\\ATAI_Project\\\\src\\\\agent.py', 'sourceRange': '271-306', 'targetRange': '272-306'}, {'timeStamp': 1743188663405, 'interactionType': 'ChangeVisibleRanges', 'sourceFilePath': 'c:\\\\Users\\\\rafb\\\\source\\\\repos\\\\ATAI_Project\\\\src\\\\agent.py', 'sourceRange': '272-306', 'targetRange': '273-307'}, {'timeStamp': 1743188663422, 'interactionType': 'ChangeVisibleRanges', 'sourceFilePath': 'c:\\\\Users\\\\rafb\\\\source\\\\repos\\\\ATAI_Project\\\\src\\\\agent.py', 'sourceRange': '273-307', 'targetRange': '273-308'}, {'timeStamp': 1743188663439, 'interactionType': 'ChangeVisibleRanges', 'sourceFilePath': 'c:\\\\Users\\\\rafb\\\\source\\\\repos\\\\ATAI_Project\\\\src\\\\agent.py', 'sourceRange': '273-308', 'targetRange': '274-308'}, {'timeStamp': 1743188663455, 'interactionType': 'ChangeVisibleRanges', 'sourceFilePath': 'c:\\\\Users\\\\rafb\\\\source\\\\repos\\\\ATAI_Project\\\\src\\\\agent.py', 'sourceRange': '274-308', 'targetRange': '274-309'}, {'timeStamp': 1743188663472, 'interactionType': 'ChangeVisibleRanges', 'sourceFilePath': 'c:\\\\Users\\\\rafb\\\\source\\\\repos\\\\ATAI_Project\\\\src\\\\agent.py', 'sourceRange': '274-309', 'targetRange': '275-309'}, {'timeStamp': 1743188663488, 'interactionType': 'ChangeVisibleRanges', 'sourceFilePath': 'c:\\\\Users\\\\rafb\\\\source\\\\repos\\\\ATAI_Project\\\\src\\\\agent.py', 'sourceRange': '275-309', 'targetRange': '276-310'}, {'timeStamp': 1743188663505, 'interactionType': 'ChangeVisibleRanges', 'sourceFilePath': 'c:\\\\Users\\\\rafb\\\\source\\\\repos\\\\ATAI_Project\\\\src\\\\agent.py', 'sourceRange': '276-310', 'targetRange': '276-311'}, {'timeStamp': 1743188663527, 'interactionType': 'ChangeVisibleRanges', 'sourceFilePath': 'c:\\\\Users\\\\rafb\\\\source\\\\repos\\\\ATAI_Project\\\\src\\\\agent.py', 'sourceRange': '276-311', 'targetRange': '277-311'}, {'timeStamp': 1743188663543, 'interactionType': 'ChangeVisibleRanges', 'sourceFilePath': 'c:\\\\Users\\\\rafb\\\\source\\\\repos\\\\ATAI_Project\\\\src\\\\agent.py', 'sourceRange': '277-311', 'targetRange': '277-312'}, {'timeStamp': 1743188663555, 'interactionType': 'ChangeVisibleRanges', 'sourceFilePath': 'c:\\\\Users\\\\rafb\\\\source\\\\repos\\\\ATAI_Project\\\\src\\\\agent.py', 'sourceRange': '277-312', 'targetRange': '278-312'}, {'timeStamp': 1743188663572, 'interactionType': 'ChangeVisibleRanges', 'sourceFilePath': 'c:\\\\Users\\\\rafb\\\\source\\\\repos\\\\ATAI_Project\\\\src\\\\agent.py', 'sourceRange': '278-312', 'targetRange': '278-313'}, {'timeStamp': 1743188663588, 'interactionType': 'ChangeVisibleRanges', 'sourceFilePath': 'c:\\\\Users\\\\rafb\\\\source\\\\repos\\\\ATAI_Project\\\\src\\\\agent.py', 'sourceRange': '278-313', 'targetRange': '279-313'}, {'timeStamp': 1743188663605, 'interactionType': 'ChangeVisibleRanges', 'sourceFilePath': 'c:\\\\Users\\\\rafb\\\\source\\\\repos\\\\ATAI_Project\\\\src\\\\agent.py', 'sourceRange': '279-313', 'targetRange': '279-314'}, {'timeStamp': 1743188663622, 'interactionType': 'ChangeVisibleRanges', 'sourceFilePath': 'c:\\\\Users\\\\rafb\\\\source\\\\repos\\\\ATAI_Project\\\\src\\\\agent.py', 'sourceRange': '279-314', 'targetRange': '280-314'}, {'timeStamp': 1743188663638, 'interactionType': 'ChangeVisibleRanges', 'sourceFilePath': 'c:\\\\Users\\\\rafb\\\\source\\\\repos\\\\ATAI_Project\\\\src\\\\agent.py', 'sourceRange': '280-314', 'targetRange': '280-315'}, {'timeStamp': 1743188663655, 'interactionType': 'ChangeVisibleRanges', 'sourceFilePath': 'c:\\\\Users\\\\rafb\\\\source\\\\repos\\\\ATAI_Project\\\\src\\\\agent.py', 'sourceRange': '280-315', 'targetRange': '281-315'}, {'timeStamp': 1743188663672, 'interactionType': 'ChangeVisibleRanges', 'sourceFilePath': 'c:\\\\Users\\\\rafb\\\\source\\\\repos\\\\ATAI_Project\\\\src\\\\agent.py', 'sourceRange': '281-315', 'targetRange': '281-316'}, {'timeStamp': 1743188663688, 'interactionType': 'ChangeVisibleRanges', 'sourceFilePath': 'c:\\\\Users\\\\rafb\\\\source\\\\repos\\\\ATAI_Project\\\\src\\\\agent.py', 'sourceRange': '281-316', 'targetRange': '282-316'}, {'timeStamp': 1743188663705, 'interactionType': 'ChangeVisibleRanges', 'sourceFilePath': 'c:\\\\Users\\\\rafb\\\\source\\\\repos\\\\ATAI_Project\\\\src\\\\agent.py', 'sourceRange': '282-316', 'targetRange': '282-317'}, {'timeStamp': 1743188663722, 'interactionType': 'ChangeVisibleRanges', 'sourceFilePath': 'c:\\\\Users\\\\rafb\\\\source\\\\repos\\\\ATAI_Project\\\\src\\\\agent.py', 'sourceRange': '282-317', 'targetRange': '283-317'}, {'timeStamp': 1743188663739, 'interactionType': 'ChangeVisibleRanges', 'sourceFilePath': 'c:\\\\Users\\\\rafb\\\\source\\\\repos\\\\ATAI_Project\\\\src\\\\agent.py', 'sourceRange': '283-317', 'targetRange': '283-318'}, {'timeStamp': 1743188663755, 'interactionType': 'ChangeVisibleRanges', 'sourceFilePath': 'c:\\\\Users\\\\rafb\\\\source\\\\repos\\\\ATAI_Project\\\\src\\\\agent.py', 'sourceRange': '283-318', 'targetRange': '284-318'}, {'timeStamp': 1743188663789, 'interactionType': 'ChangeVisibleRanges', 'sourceFilePath': 'c:\\\\Users\\\\rafb\\\\source\\\\repos\\\\ATAI_Project\\\\src\\\\agent.py', 'sourceRange': '284-318', 'targetRange': '284-319'}, {'timeStamp': 1743188663806, 'interactionType': 'ChangeVisibleRanges', 'sourceFilePath': 'c:\\\\Users\\\\rafb\\\\source\\\\repos\\\\ATAI_Project\\\\src\\\\agent.py', 'sourceRange': '284-319', 'targetRange': '285-319'}, {'timeStamp': 1743188663823, 'interactionType': 'ChangeVisibleRanges', 'sourceFilePath': 'c:\\\\Users\\\\rafb\\\\source\\\\repos\\\\ATAI_Project\\\\src\\\\agent.py', 'sourceRange': '285-319', 'targetRange': '285-320'}, {'timeStamp': 1743188663839, 'interactionType': 'ChangeVisibleRanges', 'sourceFilePath': 'c:\\\\Users\\\\rafb\\\\source\\\\repos\\\\ATAI_Project\\\\src\\\\agent.py', 'sourceRange': '285-320', 'targetRange': '286-320'}, {'timeStamp': 1743188663873, 'interactionType': 'ChangeVisibleRanges', 'sourceFilePath': 'c:\\\\Users\\\\rafb\\\\source\\\\repos\\\\ATAI_Project\\\\src\\\\agent.py', 'sourceRange': '286-320', 'targetRange': '286-321'}, {'timeStamp': 1743188663889, 'interactionType': 'ChangeVisibleRanges', 'sourceFilePath': 'c:\\\\Users\\\\rafb\\\\source\\\\repos\\\\ATAI_Project\\\\src\\\\agent.py', 'sourceRange': '286-321', 'targetRange': '287-321'}, {'timeStamp': 1743188663923, 'interactionType': 'ChangeVisibleRanges', 'sourceFilePath': 'c:\\\\Users\\\\rafb\\\\source\\\\repos\\\\ATAI_Project\\\\src\\\\agent.py', 'sourceRange': '287-321', 'targetRange': '287-322'}, {'timeStamp': 1743188663939, 'interactionType': 'ChangeVisibleRanges', 'sourceFilePath': 'c:\\\\Users\\\\rafb\\\\source\\\\repos\\\\ATAI_Project\\\\src\\\\agent.py', 'sourceRange': '287-322', 'targetRange': '288-322'}, {'timeStamp': 1743188663973, 'interactionType': 'ChangeVisibleRanges', 'sourceFilePath': 'c:\\\\Users\\\\rafb\\\\source\\\\repos\\\\ATAI_Project\\\\src\\\\agent.py', 'sourceRange': '288-322', 'targetRange': '288-323'}, {'timeStamp': 1743188663989, 'interactionType': 'ChangeVisibleRanges', 'sourceFilePath': 'c:\\\\Users\\\\rafb\\\\source\\\\repos\\\\ATAI_Project\\\\src\\\\agent.py', 'sourceRange': '288-323', 'targetRange': '289-323'}, {'timeStamp': 1743188664022, 'interactionType': 'ChangeVisibleRanges', 'sourceFilePath': 'c:\\\\Users\\\\rafb\\\\source\\\\repos\\\\ATAI_Project\\\\src\\\\agent.py', 'sourceRange': '289-323', 'targetRange': '289-324'}, {'timeStamp': 1743188664039, 'interactionType': 'ChangeVisibleRanges', 'sourceFilePath': 'c:\\\\Users\\\\rafb\\\\source\\\\repos\\\\ATAI_Project\\\\src\\\\agent.py', 'sourceRange': '289-324', 'targetRange': '290-324'}, {'timeStamp': 1743188664088, 'interactionType': 'ChangeVisibleRanges', 'sourceFilePath': 'c:\\\\Users\\\\rafb\\\\source\\\\repos\\\\ATAI_Project\\\\src\\\\agent.py', 'sourceRange': '290-324', 'targetRange': '290-325'}, {'timeStamp': 1743188664106, 'interactionType': 'ChangeVisibleRanges', 'sourceFilePath': 'c:\\\\Users\\\\rafb\\\\source\\\\repos\\\\ATAI_Project\\\\src\\\\agent.py', 'sourceRange': '290-325', 'targetRange': '291-325'}, {'timeStamp': 1743188664155, 'interactionType': 'ChangeVisibleRanges', 'sourceFilePath': 'c:\\\\Users\\\\rafb\\\\source\\\\repos\\\\ATAI_Project\\\\src\\\\agent.py', 'sourceRange': '291-325', 'targetRange': '291-326'}, {'timeStamp': 1743188664172, 'interactionType': 'ChangeVisibleRanges', 'sourceFilePath': 'c:\\\\Users\\\\rafb\\\\source\\\\repos\\\\ATAI_Project\\\\src\\\\agent.py', 'sourceRange': '291-326', 'targetRange': '292-326'}, {'timeStamp': 1743188664222, 'interactionType': 'ChangeVisibleRanges', 'sourceFilePath': 'c:\\\\Users\\\\rafb\\\\source\\\\repos\\\\ATAI_Project\\\\src\\\\agent.py', 'sourceRange': '292-326', 'targetRange': '292-327'}, {'timeStamp': 1743188664256, 'interactionType': 'ChangeVisibleRanges', 'sourceFilePath': 'c:\\\\Users\\\\rafb\\\\source\\\\repos\\\\ATAI_Project\\\\src\\\\agent.py', 'sourceRange': '292-327', 'targetRange': '293-327'}, {'timeStamp': 1743188664322, 'interactionType': 'ChangeVisibleRanges', 'sourceFilePath': 'c:\\\\Users\\\\rafb\\\\source\\\\repos\\\\ATAI_Project\\\\src\\\\agent.py', 'sourceRange': '293-327', 'targetRange': '293-328'}, {'timeStamp': 1743188664372, 'interactionType': 'ChangeVisibleRanges', 'sourceFilePath': 'c:\\\\Users\\\\rafb\\\\source\\\\repos\\\\ATAI_Project\\\\src\\\\agent.py', 'sourceRange': '293-328', 'targetRange': '294-328'}, {'timeStamp': 1743188664488, 'interactionType': 'ChangeVisibleRanges', 'sourceFilePath': 'c:\\\\Users\\\\rafb\\\\source\\\\repos\\\\ATAI_Project\\\\src\\\\agent.py', 'sourceRange': '294-328', 'targetRange': '294-329'}, {'timeStamp': 1743188664572, 'interactionType': 'ChangeVisibleRanges', 'sourceFilePath': 'c:\\\\Users\\\\rafb\\\\source\\\\repos\\\\ATAI_Project\\\\src\\\\agent.py', 'sourceRange': '294-329', 'targetRange': '295-329'}, {'timeStamp': 1743188673209, 'interactionType': 'NavigationJump', 'backwards': True, 'sourceFilePath': 'src/agent.py', 'sourceRange': '295-329', 'targetFilePath': 'src/agent.py', 'targetLine': 295}, {'timeStamp': 1743188673231, 'interactionType': 'ChangeVisibleRanges', 'sourceFilePath': 'c:\\\\Users\\\\rafb\\\\source\\\\repos\\\\ATAI_Project\\\\src\\\\agent.py', 'sourceRange': '295-329', 'targetRange': '205-240'}]\n"
     ]
    }
   ],
   "source": [
    "import json\n",
    "\n",
    "fileDir = 'C:/Users/rafb/AppData/Roaming/Code/User/workspaceStorage/b03f3379a1447d3620f3d4a069f1d983/grandFileNavigator.grandfilenavigator'\n",
    "filePath = get_newest_interaction_file(fileDir)\n",
    "\n",
    "interactionData = []\n",
    "with open(filePath) as interactionDataFile:\n",
    "    for interaction in interactionDataFile.readlines():\n",
    "        interactionData.append(json.loads(interaction))\n",
    "\n",
    "print(interactionData)"
   ]
  },
  {
   "cell_type": "code",
   "execution_count": null,
   "metadata": {},
   "outputs": [],
   "source": [
    "import copy\n",
    "\n",
    "# Merge scrolls together.\n",
    "# A scroll is all changes of the visible ranges with less than 250 between them (i.e., covers short interruptions).\n",
    "def detectScrolling(interactionData):\n",
    "    maxTimeBetweenChanges = 250 # max time in ms between ChangeVisibleRanges entries to still be considered part of one scroll\n",
    "    scrollingInteractionData = []\n",
    "\n",
    "    scrollInteraction = None\n",
    "    for interaction in interactionData:\n",
    "        if interaction[\"interactionType\"] != \"ChangeVisibleRanges\":\n",
    "            if scrollInteraction is not None:\n",
    "                scrollingInteractionData.append(scrollInteraction)\n",
    "                scrollInteraction = None\n",
    "            scrollingInteractionData.append(interaction)\n",
    "        elif scrollInteraction is None or interaction[\"timeStamp\"] - scrollInteraction[\"endTime\"] > maxTimeBetweenChanges:\n",
    "            if scrollInteraction is not None:\n",
    "                scrollingInteractionData.append(scrollInteraction)\n",
    "            scrollInteraction = copy.deepcopy(interaction)\n",
    "        else:\n",
    "            scrollInteraction[\"interactionType\"] = \"Scroll\" # only triggered if multiple visible range changes close together\n",
    "            scrollInteraction[\"endTime\"] = interaction[\"timeStamp\"]\n",
    "            scrollInteraction[\"targetRange\"] = interaction[\"targetRange\"]\n",
    "\n",
    "    return scrollingInteractionData"
   ]
  },
  {
   "cell_type": "code",
   "execution_count": 21,
   "metadata": {},
   "outputs": [
    {
     "name": "stdout",
     "output_type": "stream",
     "text": [
      "[{'timeStamp': 1743188649485, 'interactionType': 'Scroll', 'sourceFilePath': '', 'sourceRange': '', 'targetRange': '209-244', 'endTime': 1743188649487}, {'timeStamp': 1743188653372, 'interactionType': 'Scroll', 'sourceFilePath': 'c:\\\\Users\\\\rafb\\\\source\\\\repos\\\\ATAI_Project\\\\src\\\\agent.py', 'sourceRange': '209-244', 'targetRange': '209-244', 'endTime': 1743188653375}, {'timeStamp': 1743188662490, 'interactionType': 'Scroll', 'sourceFilePath': 'c:\\\\Users\\\\rafb\\\\source\\\\repos\\\\ATAI_Project\\\\src\\\\agent.py', 'sourceRange': '209-244', 'targetRange': '295-329', 'endTime': 1743188664572}, {'timeStamp': 1743188673209, 'interactionType': 'NavigationJump', 'backwards': True, 'sourceFilePath': 'src/agent.py', 'sourceRange': '295-329', 'targetFilePath': 'src/agent.py', 'targetLine': 295}]\n"
     ]
    }
   ],
   "source": [
    "# TODO: First process jumps, to prevent them from being treated as scolling data.\n",
    "\n",
    "scrollingInteractionData = detectScrolling(interactionData)\n",
    "print(scrollingInteractionData)"
   ]
  }
 ],
 "metadata": {
  "kernelspec": {
   "display_name": "Python 3",
   "language": "python",
   "name": "python3"
  },
  "language_info": {
   "codemirror_mode": {
    "name": "ipython",
    "version": 3
   },
   "file_extension": ".py",
   "mimetype": "text/x-python",
   "name": "python",
   "nbconvert_exporter": "python",
   "pygments_lexer": "ipython3",
   "version": "3.10.7"
  }
 },
 "nbformat": 4,
 "nbformat_minor": 2
}
