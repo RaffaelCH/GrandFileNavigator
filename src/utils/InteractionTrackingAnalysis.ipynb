{
 "cells": [
  {
   "cell_type": "markdown",
   "metadata": {},
   "source": [
    "# Interaction Tracking Analysis\n",
    "\n",
    "Code to analyze the output from `interactionTracker.js`: process it to determine the likely interactions and reduce the amount of data, then produce some statistics."
   ]
  },
  {
   "cell_type": "code",
   "execution_count": 10,
   "metadata": {},
   "outputs": [],
   "source": [
    "import os\n",
    "import glob\n",
    "\n",
    "def get_newest_interaction_file(directory, startsWith = \"interactions_\"):\n",
    "    # Get list of all files in the directory\n",
    "    files = glob.glob(os.path.join(directory, '*'))\n",
    "    files = [file.replace(\"\\\\\", \"/\") for file in files]\n",
    "    \n",
    "    # Check if the directory is empty\n",
    "    if not files:\n",
    "        return None\n",
    "\n",
    "    # Filter for interaction data.\n",
    "    if startsWith:\n",
    "        files = [file for file in files if file.split(\"/\")[-1].startswith(startsWith)]\n",
    "    \n",
    "    # Get the newest file based on modification time\n",
    "    newest_file = max(files, key=os.path.getmtime)\n",
    "    return newest_file"
   ]
  },
  {
   "cell_type": "code",
   "execution_count": 11,
   "metadata": {},
   "outputs": [
    {
     "name": "stdout",
     "output_type": "stream",
     "text": [
      "[{'timeStamp': 1746282810709, 'interactionType': 'ChangeVisibleRanges', 'sourceFilePath': '', 'sourceRange': '', 'targetRange': '0-35'}, {'timeStamp': 1746282816227, 'interactionType': 'ChangeVisibleRanges', 'sourceFilePath': 'c:\\\\Users\\\\rafb\\\\source\\\\repos\\\\ATAI_Project\\\\src\\\\graph_handler.py', 'sourceRange': '0-35', 'targetRange': '0-34'}, {'timeStamp': 1746282838503, 'interactionType': 'ChangeSidebarVisibility', 'isVisible': False}, {'timeStamp': 1746282841408, 'interactionType': 'ChangeSidebarVisibility', 'isVisible': True}]\n"
     ]
    }
   ],
   "source": [
    "import json\n",
    "\n",
    "fileDir = 'C:/Users/rafb/AppData/Roaming/Code/User/workspaceStorage/b03f3379a1447d3620f3d4a069f1d983/grandFileNavigator.grandfilenavigator'\n",
    "filePath = get_newest_interaction_file(fileDir)\n",
    "\n",
    "interactionData = []\n",
    "with open(filePath) as interactionDataFile:\n",
    "    for interaction in interactionDataFile.readlines():\n",
    "        interactionData.append(json.loads(interaction))\n",
    "\n",
    "print(interactionData)"
   ]
  },
  {
   "cell_type": "code",
   "execution_count": 12,
   "metadata": {},
   "outputs": [],
   "source": [
    "def remove_erroneous(interactionData):\n",
    "    fixedInteractionData = []\n",
    "\n",
    "    for interaction in interactionData:\n",
    "        if interaction[\"interactionType\"] == \"ChangeFile\":\n",
    "            if not interaction[\"targetFilePath\"] or interaction[\"sourceFilePath\"] == interaction[\"targetFilePath\"]:\n",
    "                continue\n",
    "        fixedInteractionData.append(interaction)\n",
    "    \n",
    "    return fixedInteractionData\n",
    "\n",
    "\n",
    "def remove_duplicates(interactionData):\n",
    "    cleanedInteractionData = []\n",
    "\n",
    "    i = 0\n",
    "    while i < len(interactionData):\n",
    "        if i == len(interactionData) - 1 or interactionData[i] != interactionData[i+1]:\n",
    "            cleanedInteractionData.append(interactionData[i])\n",
    "        i += 1\n",
    "    \n",
    "    return cleanedInteractionData"
   ]
  },
  {
   "cell_type": "code",
   "execution_count": 13,
   "metadata": {},
   "outputs": [],
   "source": [
    "import copy\n",
    "\n",
    "# Merge scrolls together.\n",
    "# A scroll is all changes of the visible ranges with less than 250 between them (i.e., covers short interruptions).\n",
    "\n",
    "\n",
    "def detect_scrolling(interactionData):\n",
    "    # max time in ms between ChangeVisibleRanges entries to still be considered part of one scroll\n",
    "    maxTimeBetweenChanges = 250\n",
    "    scrollingInteractionData = []\n",
    "\n",
    "    changeRangesInteraction = None\n",
    "    for interaction in interactionData:\n",
    "        if interaction[\"interactionType\"] != \"ChangeVisibleRanges\":\n",
    "            if changeRangesInteraction is not None:\n",
    "                scrollingInteractionData.append(changeRangesInteraction)\n",
    "                changeRangesInteraction = None\n",
    "            scrollingInteractionData.append(interaction)\n",
    "            continue\n",
    "        \n",
    "        if changeRangesInteraction is None:\n",
    "            changeRangesInteraction = copy.deepcopy(interaction)\n",
    "            continue\n",
    "\n",
    "        isScrollInteraction = changeRangesInteraction[\"interactionType\"] == \"Scroll\"\n",
    "        lastInteractionEndTime = changeRangesInteraction[\"endTime\"] if isScrollInteraction else changeRangesInteraction[\"timeStamp\"]\n",
    "        if interaction[\"timeStamp\"] - lastInteractionEndTime > maxTimeBetweenChanges:\n",
    "            scrollingInteractionData.append(changeRangesInteraction)\n",
    "            changeRangesInteraction = None\n",
    "        else:\n",
    "            if changeRangesInteraction[\"interactionType\"] == \"ChangeVisibleRanges\": # wasn't treated as scroll yet\n",
    "                changeRangesInteraction[\"interactionType\"] = \"Scroll\"\n",
    "                changeRangesInteraction[\"startTime\"] = changeRangesInteraction[\"timeStamp\"]\n",
    "            changeRangesInteraction[\"endTime\"] = interaction[\"timeStamp\"]\n",
    "            changeRangesInteraction[\"targetRange\"] = interaction[\"targetRange\"]\n",
    "    \n",
    "    if changeRangesInteraction is not None:\n",
    "        scrollingInteractionData.append(changeRangesInteraction)\n",
    "\n",
    "    return scrollingInteractionData"
   ]
  },
  {
   "cell_type": "code",
   "execution_count": 14,
   "metadata": {},
   "outputs": [],
   "source": [
    "def combine_edits(interactionData):\n",
    "    # max time in ms between ChangeVisibleRanges entries to still be considered part of one edit session\n",
    "    maxTimeBetweenChanges = 2000\n",
    "    editingInteractionData = []\n",
    "\n",
    "    editInteraction = None\n",
    "    for interaction in interactionData:\n",
    "        if interaction[\"interactionType\"] != \"EditFile\":\n",
    "            if editInteraction is not None:\n",
    "                editingInteractionData.append(editInteraction)\n",
    "                editInteraction = None\n",
    "            editingInteractionData.append(interaction)\n",
    "            continue\n",
    "        \n",
    "        if editInteraction is None:\n",
    "            editInteraction = copy.deepcopy(interaction)\n",
    "            continue\n",
    "\n",
    "        isEditingSession = editInteraction[\"interactionType\"] == \"EditingSession\"\n",
    "        lastInteractionEndTime = editInteraction[\"endTime\"] if isEditingSession else editInteraction[\"timeStamp\"]\n",
    "        if interaction[\"timeStamp\"] - lastInteractionEndTime > maxTimeBetweenChanges:\n",
    "            editingInteractionData.append(editInteraction)\n",
    "            editInteraction = None\n",
    "        else:\n",
    "            if editInteraction[\"interactionType\"] == \"EditFile\": # wasn't treated as session yet\n",
    "                editInteraction[\"interactionType\"] = \"EditingSession\"\n",
    "                editInteraction[\"startTime\"] = editInteraction[\"timeStamp\"]\n",
    "            editInteraction[\"endTime\"] = interaction[\"timeStamp\"]\n",
    "\n",
    "    if editInteraction is not None:\n",
    "        editingInteractionData.append(editInteraction)\n",
    "\n",
    "    return editingInteractionData"
   ]
  },
  {
   "cell_type": "code",
   "execution_count": 15,
   "metadata": {},
   "outputs": [],
   "source": [
    "def process_jumps(interactionData):\n",
    "    navigationInteractions = [\"ClickJumpButton\", \"ClickStatusBar\", \"NavigationJump\"]\n",
    "    jumpInteractionData = []\n",
    "\n",
    "    i = 0\n",
    "    while i < len(interactionData):\n",
    "        if interactionData[i][\"interactionType\"] in navigationInteractions:\n",
    "            if (i == 121):\n",
    "                print(\"i == 121\")\n",
    "            \n",
    "            triggeredByUiInteraction = interactionData[i][\"interactionType\"] != \"NavigationJump\"\n",
    "            jumpEntryIndex = i+2 if triggeredByUiInteraction else i+1\n",
    "\n",
    "            combinedEntry = interactionData[jumpEntryIndex]\n",
    "            combinedEntry[\"interactionType\"] = \"NavigationJump\"\n",
    "            combinedEntry[\"backwards\"] = interactionData[i][\"backwards\"]\n",
    "\n",
    "            if interactionData[i][\"interactionType\"] == \"ClickJumpButton\":\n",
    "                combinedEntry[\"origin\"] = \"SidebarButton\"\n",
    "            elif interactionData[i][\"interactionType\"] == \"ClickStatusBar\":\n",
    "                combinedEntry[\"origin\"] = \"StatusBar\"\n",
    "            else:\n",
    "                combinedEntry[\"origin\"] = \"KeyboardShortcut\"\n",
    "\n",
    "            jumpInteractionData.append(combinedEntry)\n",
    "            i += 3 if triggeredByUiInteraction else 2\n",
    "        else:\n",
    "            jumpInteractionData.append(interactionData[i])\n",
    "            i += 1\n",
    "        \n",
    "    return jumpInteractionData"
   ]
  },
  {
   "cell_type": "code",
   "execution_count": 16,
   "metadata": {},
   "outputs": [
    {
     "name": "stdout",
     "output_type": "stream",
     "text": [
      "{'timeStamp': 1746282810709, 'interactionType': 'ChangeVisibleRanges', 'sourceFilePath': '', 'sourceRange': '', 'targetRange': '0-35'}\n",
      "{'timeStamp': 1746282816227, 'interactionType': 'ChangeVisibleRanges', 'sourceFilePath': 'c:\\\\Users\\\\rafb\\\\source\\\\repos\\\\ATAI_Project\\\\src\\\\graph_handler.py', 'sourceRange': '0-35', 'targetRange': '0-34'}\n",
      "{'timeStamp': 1746282838503, 'interactionType': 'ChangeSidebarVisibility', 'isVisible': False}\n",
      "{'timeStamp': 1746282841408, 'interactionType': 'ChangeSidebarVisibility', 'isVisible': True}\n"
     ]
    }
   ],
   "source": [
    "for interaction in interactionData:\n",
    "    print(interaction)\n",
    "\n",
    "refinedInteractionData = detect_scrolling(interactionData)\n",
    "refinedInteractionData = combine_edits(refinedInteractionData)\n",
    "refinedInteractionData = remove_erroneous(refinedInteractionData)\n",
    "refinedInteractionData = remove_duplicates(refinedInteractionData)\n",
    "refinedInteractionData = process_jumps(refinedInteractionData)"
   ]
  },
  {
   "cell_type": "code",
   "execution_count": 17,
   "metadata": {},
   "outputs": [
    {
     "name": "stdout",
     "output_type": "stream",
     "text": [
      "{'timeStamp': 1746282810709, 'interactionType': 'ChangeVisibleRanges', 'sourceFilePath': '', 'sourceRange': '', 'targetRange': '0-35'}\n",
      "{'timeStamp': 1746282838503, 'interactionType': 'ChangeSidebarVisibility', 'isVisible': False}\n",
      "{'timeStamp': 1746282841408, 'interactionType': 'ChangeSidebarVisibility', 'isVisible': True}\n"
     ]
    }
   ],
   "source": [
    "for interaction in refinedInteractionData:\n",
    "    print(interaction)"
   ]
  }
 ],
 "metadata": {
  "kernelspec": {
   "display_name": "Python 3",
   "language": "python",
   "name": "python3"
  },
  "language_info": {
   "codemirror_mode": {
    "name": "ipython",
    "version": 3
   },
   "file_extension": ".py",
   "mimetype": "text/x-python",
   "name": "python",
   "nbconvert_exporter": "python",
   "pygments_lexer": "ipython3",
   "version": "3.10.7"
  }
 },
 "nbformat": 4,
 "nbformat_minor": 2
}
